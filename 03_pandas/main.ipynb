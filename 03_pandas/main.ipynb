{
 "cells": [
  {
   "cell_type": "markdown",
   "metadata": {},
   "source": [
    "## Pandas 🐼\n",
    "\n",
    "- Used for data manipulation and analysis\n",
    "\n",
    "## Install pandas 🐼\n",
    "\n",
    "```bash\n",
    "pip install pandas\n",
    "```\n",
    "\n",
    "---\n",
    "\n",
    "## Import pandas & check version\n"
   ]
  },
  {
   "cell_type": "code",
   "execution_count": 1,
   "metadata": {},
   "outputs": [
    {
     "data": {
      "text/plain": [
       "'2.0.3'"
      ]
     },
     "execution_count": 1,
     "metadata": {},
     "output_type": "execute_result"
    }
   ],
   "source": [
    "import pandas as pd\n",
    "pd.__version__"
   ]
  },
  {
   "cell_type": "markdown",
   "metadata": {},
   "source": [
    "---\n",
    "\n",
    "## DataFrames in pandas\n",
    "\n",
    "- A DataFrame is a table. It contains an array of individual entries, each of which has a certain value. Each entry corresponds to a row (or record) and a column.\n",
    "\n",
    "## Series in pandas\n",
    "\n",
    "- A Series, by contrast, is a sequence of data values. If a DataFrame is a table, a Series is a list. And in fact you can create one with nothing more than a list. `**A Series is, in essence, a single column of a DataFrame.**`\n",
    "\n",
    "---\n",
    "\n",
    "## Creating a DataFrame"
   ]
  },
  {
   "cell_type": "code",
   "execution_count": 3,
   "metadata": {},
   "outputs": [
    {
     "name": "stdout",
     "output_type": "stream",
     "text": [
      "   A  B\n",
      "0  1  4\n",
      "1  2  5\n",
      "2  3  6\n",
      "-----------------------------------\n",
      "   A  B\n",
      "a  1  4\n",
      "b  2  5\n",
      "c  3  6\n"
     ]
    }
   ],
   "source": [
    "myDF = pd.DataFrame({'A': [1, 2, 3], 'B': [4, 5, 6]})\n",
    "print(myDF)\n",
    "\n",
    "print(\"-----------------------------------\")\n",
    "\n",
    "## using custom index instead of default index (0, 1, 2, ...)\n",
    "myDF = pd.DataFrame({'A': [1, 2, 3], 'B': [4, 5, 6]}, index=['a', 'b', 'c'])\n",
    "print(myDF)"
   ]
  },
  {
   "cell_type": "markdown",
   "metadata": {},
   "source": [
    "---\n",
    "\n",
    "## Creating a Series"
   ]
  },
  {
   "cell_type": "code",
   "execution_count": 4,
   "metadata": {},
   "outputs": [
    {
     "name": "stdout",
     "output_type": "stream",
     "text": [
      "0    1\n",
      "1    2\n",
      "2    3\n",
      "3    4\n",
      "4    5\n",
      "dtype: int64\n",
      "-----------------------------------\n",
      "a    1\n",
      "b    2\n",
      "c    3\n",
      "d    4\n",
      "e    5\n",
      "dtype: int64\n",
      "-----------------------------------\n",
      "a    1\n",
      "b    2\n",
      "c    3\n",
      "d    4\n",
      "e    5\n",
      "Name: My Series, dtype: int64\n"
     ]
    }
   ],
   "source": [
    "mySeries = pd.Series([1, 2, 3, 4, 5])\n",
    "print(mySeries)\n",
    "\n",
    "print(\"-----------------------------------\")\n",
    "\n",
    "# using custom index\n",
    "mySeries = pd.Series([1, 2, 3, 4, 5], index=['a', 'b', 'c', 'd', 'e'])\n",
    "print(mySeries)\n",
    "\n",
    "print(\"-----------------------------------\")\n",
    "\n",
    "# since, series is like a column in a table, we can give it a name\n",
    "mySeries = pd.Series([1, 2, 3, 4, 5], index=['a', 'b', 'c', 'd', 'e'], name=\"My Series\")\n",
    "print(mySeries)"
   ]
  },
  {
   "cell_type": "markdown",
   "metadata": {},
   "source": [
    "## Series Vs DataFrame\n",
    "\n",
    "- Series is a list, while DataFrame is a dictionary.\n",
    "\n",
    "- Series is a column, while DataFrame is a table.\n",
    "\n",
    "---\n",
    "\n",
    "## Writing these DataFrames to a file"
   ]
  },
  {
   "cell_type": "code",
   "execution_count": 16,
   "metadata": {},
   "outputs": [],
   "source": [
    "# writing to file\n",
    "myDF = pd.DataFrame({'a': [1,2,3,7,8,9,10,11,12], 'b': [4,5,6,13,14,15,16,17,18]})\n",
    "myDF.to_csv('myDF.csv', index=False) # index=False to not write the index column"
   ]
  },
  {
   "cell_type": "markdown",
   "metadata": {},
   "source": [
    "---\n",
    "\n",
    "## Reading a CSV file"
   ]
  },
  {
   "cell_type": "code",
   "execution_count": 32,
   "metadata": {},
   "outputs": [
    {
     "name": "stdout",
     "output_type": "stream",
     "text": [
      "    a   b\n",
      "0   1   4\n",
      "1   2   5\n",
      "2   3   6\n",
      "3   7  13\n",
      "4   8  14\n",
      "5   9  15\n",
      "6  10  16\n",
      "7  11  17\n",
      "8  12  18\n"
     ]
    }
   ],
   "source": [
    "df = pd.read_csv('myDF.csv', index_col=None, header=0)\n",
    "\n",
    "## read_csv function has many parameters, but the most important ones are:\n",
    "# index_col: column to use as the row labels of the DataFrame. By default, an index is created from 0 to n-1, where n is the number of rows in the DataFrame. If you pass a column name to this parameter, then this column will be used as the row labels.\n",
    "\n",
    "# header: row number(s) to use as the column names, and the start of the data. By default, the first row is used as the column names. If you pass a list of integers to this parameter, then these row numbers will be used as the column names.\n",
    "\n",
    "print(df)"
   ]
  },
  {
   "cell_type": "markdown",
   "metadata": {},
   "source": [
    "---\n",
    "\n",
    "## Finding shape of the data\n"
   ]
  },
  {
   "cell_type": "code",
   "execution_count": 18,
   "metadata": {},
   "outputs": [
    {
     "data": {
      "text/plain": [
       "(9, 2)"
      ]
     },
     "execution_count": 18,
     "metadata": {},
     "output_type": "execute_result"
    }
   ],
   "source": [
    "df.shape"
   ]
  },
  {
   "cell_type": "markdown",
   "metadata": {},
   "source": [
    "---\n",
    "\n",
    "## Viewing first 5 or last 5 rows\n"
   ]
  },
  {
   "cell_type": "code",
   "execution_count": 20,
   "metadata": {},
   "outputs": [
    {
     "name": "stdout",
     "output_type": "stream",
     "text": [
      "first 5 rows: \n",
      "   a   b\n",
      "0  1   4\n",
      "1  2   5\n",
      "2  3   6\n",
      "3  7  13\n",
      "4  8  14\n",
      "--------------------\n",
      "last 5 rows: \n",
      "    a   b\n",
      "4   8  14\n",
      "5   9  15\n",
      "6  10  16\n",
      "7  11  17\n",
      "8  12  18\n",
      "--------------------\n",
      "first n rows: \n",
      "   a  b\n",
      "0  1  4\n",
      "1  2  5\n",
      "2  3  6\n"
     ]
    }
   ],
   "source": [
    "print(f\"first 5 rows: \\n{df.head()}\")\n",
    "\n",
    "print(\"--------------------\")\n",
    "\n",
    "print(f\"last 5 rows: \\n{df.tail()}\")\n",
    "\n",
    "print(\"--------------------\")\n",
    "\n",
    "print(f\"first n rows: \\n{df.head(3)}\")\n"
   ]
  },
  {
   "cell_type": "markdown",
   "metadata": {},
   "source": [
    "---\n",
    "\n",
    "## Indexing, selecting & assigning"
   ]
  },
  {
   "cell_type": "code",
   "execution_count": 39,
   "metadata": {},
   "outputs": [
    {
     "data": {
      "text/html": [
       "<div>\n",
       "<style scoped>\n",
       "    .dataframe tbody tr th:only-of-type {\n",
       "        vertical-align: middle;\n",
       "    }\n",
       "\n",
       "    .dataframe tbody tr th {\n",
       "        vertical-align: top;\n",
       "    }\n",
       "\n",
       "    .dataframe thead th {\n",
       "        text-align: right;\n",
       "    }\n",
       "</style>\n",
       "<table border=\"1\" class=\"dataframe\">\n",
       "  <thead>\n",
       "    <tr style=\"text-align: right;\">\n",
       "      <th></th>\n",
       "      <th>Name</th>\n",
       "      <th>Age</th>\n",
       "      <th>email</th>\n",
       "    </tr>\n",
       "  </thead>\n",
       "  <tbody>\n",
       "    <tr>\n",
       "      <th>a</th>\n",
       "      <td>John</td>\n",
       "      <td>23</td>\n",
       "      <td>john@gmail.com</td>\n",
       "    </tr>\n",
       "    <tr>\n",
       "      <th>b</th>\n",
       "      <td>Jane</td>\n",
       "      <td>29</td>\n",
       "      <td>Jane@gmail.com</td>\n",
       "    </tr>\n",
       "    <tr>\n",
       "      <th>c</th>\n",
       "      <td>Sue</td>\n",
       "      <td>21</td>\n",
       "      <td>Sue@gmail.com</td>\n",
       "    </tr>\n",
       "    <tr>\n",
       "      <th>d</th>\n",
       "      <td>Fred</td>\n",
       "      <td>18</td>\n",
       "      <td>Fred@gmail.com</td>\n",
       "    </tr>\n",
       "  </tbody>\n",
       "</table>\n",
       "</div>"
      ],
      "text/plain": [
       "   Name  Age           email\n",
       "a  John   23  john@gmail.com\n",
       "b  Jane   29  Jane@gmail.com\n",
       "c   Sue   21   Sue@gmail.com\n",
       "d  Fred   18  Fred@gmail.com"
      ]
     },
     "execution_count": 39,
     "metadata": {},
     "output_type": "execute_result"
    }
   ],
   "source": [
    "# let's create a dataframe that we will be using for the rest of the notebook\n",
    "\n",
    "df = pd.DataFrame({\n",
    "    \"Name\":['John', 'Jane', 'Sue', 'Fred'],\n",
    "    \"Age\":[23, 29, 21, 18],\n",
    "    \"email\":['john@gmail.com', 'Jane@gmail.com', 'Sue@gmail.com', 'Fred@gmail.com'],\n",
    "},\n",
    "index=['a','b','c','d'])\n",
    "\n",
    "df"
   ]
  },
  {
   "cell_type": "markdown",
   "metadata": {},
   "source": [
    "## selecting on the basis of `column names`\n"
   ]
  },
  {
   "cell_type": "code",
   "execution_count": 40,
   "metadata": {},
   "outputs": [
    {
     "name": "stdout",
     "output_type": "stream",
     "text": [
      "a    John\n",
      "b    Jane\n",
      "c     Sue\n",
      "d    Fred\n",
      "Name: Name, dtype: object\n",
      "--------------------\n",
      "a    john@gmail.com\n",
      "b    Jane@gmail.com\n",
      "c     Sue@gmail.com\n",
      "d    Fred@gmail.com\n",
      "Name: email, dtype: object\n",
      "--------------------\n",
      "18\n"
     ]
    }
   ],
   "source": [
    "print(df.Name)\n",
    "\n",
    "print(\"--------------------\")\n",
    "\n",
    "print(df['email']) # same as above, but better for column names with spaces\n",
    "\n",
    "print(\"--------------------\")\n",
    "\n",
    "print(df['Age'][3])\n"
   ]
  },
  {
   "cell_type": "markdown",
   "metadata": {},
   "source": [
    "---\n",
    "\n",
    "## iloc and loc\n",
    "\n",
    "- iloc: integer location. Use when you want to select rows and columns by their integer location.\n",
    "\n",
    "- loc: label location. Use when you want to select rows and columns by their label.\n",
    "\n",
    "### Note ⚠️\n",
    "    - `iloc`: the last index is not included (exclusive)\n",
    "    - `loc`: the last index is included (inclusive). This is bcoz, we're selecting by labels, and if we're selecting by labels, we want to include the last label.\n",
    "\n",
    "    - **Both loc and iloc are row-first, column-second. This is the opposite of what we do in native Python, which is column-first, row-second.**"
   ]
  },
  {
   "cell_type": "code",
   "execution_count": 45,
   "metadata": {},
   "outputs": [
    {
     "name": "stdout",
     "output_type": "stream",
     "text": [
      "   Name  Age\n",
      "a  John   23\n",
      "b  Jane   29\n",
      "c   Sue   21\n",
      "-------------------------\n",
      "   Name  Age           email\n",
      "a  John   23  john@gmail.com\n",
      "c   Sue   21   Sue@gmail.com\n"
     ]
    }
   ],
   "source": [
    "print(df.iloc[0:3, 0:2]) # selecting on the basis of index (including start but excluding end)\n",
    "\n",
    "print(\"-------------------------\")\n",
    "\n",
    "print(df.loc[['a','c'], \"Name\":\"email\"]) # selecting on the basis of label (including both start and end)\n"
   ]
  },
  {
   "cell_type": "markdown",
   "metadata": {},
   "source": [
    "---\n",
    "\n",
    "> #### If you see `loc` with integers, it means that the index is an integer index. If you see `loc` with strings, it means that the index is a string index.\n",
    "\n",
    "---\n",
    "\n",
    "## Note 🔴\n",
    "\n",
    "- when the DataFrame index is a simple numerical list, e.g. 0,...,1000.\n",
    "- In this case `df.iloc[0:1000] will return 1000 entries`,\n",
    "- while `df.loc[0:1000] return 1001 of them`! To get 1000 elements using loc, you will need to go one lower and ask for df.loc[0:999]."
   ]
  },
  {
   "cell_type": "markdown",
   "metadata": {},
   "source": [
    "---\n",
    "\n",
    "## Conditional Selection ✴️⭐"
   ]
  },
  {
   "cell_type": "code",
   "execution_count": 61,
   "metadata": {},
   "outputs": [
    {
     "name": "stdout",
     "output_type": "stream",
     "text": [
      "   Name  Age           email\n",
      "a  John   23  john@gmail.com\n",
      "b  Jane   29  Jane@gmail.com\n",
      "c   Sue   21   Sue@gmail.com\n",
      "d  Fred   18  Fred@gmail.com\n",
      "------------------------\n",
      "a     True\n",
      "b     True\n",
      "c    False\n",
      "d    False\n",
      "Name: Age, dtype: bool\n",
      "------------------------\n",
      "   Name  Age           email\n",
      "a  John   23  john@gmail.com\n",
      "b  Jane   29  Jane@gmail.com\n",
      "------------------------\n",
      "   Name  Age           email\n",
      "a  John   23  john@gmail.com\n",
      "b  Jane   29  Jane@gmail.com\n",
      "------------------------\n",
      "   Name  Age           email\n",
      "a  John   23  john@gmail.com\n",
      "------------------------\n",
      "   Name  Age           email\n",
      "a  John   23  john@gmail.com\n",
      "b  Jane   29  Jane@gmail.com\n",
      "c   Sue   21   Sue@gmail.com\n",
      "------------------------\n",
      "   Name           email\n",
      "a  John  john@gmail.com\n",
      "b  Jane  Jane@gmail.com\n"
     ]
    }
   ],
   "source": [
    "print(df)\n",
    "\n",
    "print(\"------------------------\")\n",
    "\n",
    "# selecting a column with age greater than 21\n",
    "\n",
    "print(df.Age > 21)\n",
    "\n",
    "print(\"------------------------\")\n",
    "\n",
    "# we can also use the `loc` method to select a column\n",
    "print(df.loc[df.Age > 21])\n",
    "\n",
    "print(\"------------------------\")\n",
    "\n",
    "# printing the rows with age greater than 21\n",
    "print(df[df.Age > 21]) # this is the same as the previous one. The condition will act as the row index.\n",
    "\n",
    "print(\"------------------------\")\n",
    "\n",
    "# printing the rows with age greater than 21 and name equal to 'John'\n",
    "print(df[(df.Age > 21) & (df.Name == 'John')]) # combining conditions via `&`\n",
    "\n",
    "print(\"------------------------\")\n",
    "\n",
    "# printing the rows with age greater than 21 or name equal to 'Sue'\n",
    "print(df[(df.Age > 21) | (df.Name == 'Sue')]) # combining conditions via `|`\n",
    "\n",
    "print(\"------------------------\")\n",
    "\n",
    "# printing only names and emails of the rows with age greater than 21\n",
    "print(df.loc[(df.Age > 21), ['Name', 'email']])"
   ]
  },
  {
   "cell_type": "markdown",
   "metadata": {},
   "source": [
    "---\n",
    "\n",
    "## Assigning data\n",
    "\n",
    "-  we can set the value as a list of values, or use range function, or a constant value"
   ]
  },
  {
   "cell_type": "code",
   "execution_count": 63,
   "metadata": {},
   "outputs": [
    {
     "name": "stdout",
     "output_type": "stream",
     "text": [
      "a    john@gmail.com\n",
      "b    jane@gmail.com\n",
      "c     sue@gmail.com\n",
      "d    fred@gmail.com\n",
      "Name: email, dtype: object\n",
      "--------------------\n",
      "a    john@gmail.com\n",
      "b    jane@gmail.com\n",
      "c     sue@gmail.com\n",
      "d    fred@gmail.com\n",
      "Name: email, dtype: object\n"
     ]
    }
   ],
   "source": [
    "print(df.email)\n",
    "df['email'] = df['email'].str.lower() # we can also pass a list of values, or use range function, or a constant value\n",
    "print(\"--------------------\")\n",
    "print(df.email)"
   ]
  },
  {
   "cell_type": "markdown",
   "metadata": {},
   "source": [
    "---\n",
    "\n",
    "## Summary functions\n",
    "\n",
    "### Describe method:\n",
    "    - Describes the data. If we select a particular column and then call `describe()` on it, it will give us the summary statistics for that column. It is type-aware. For example, if we have a column of strings, it will return different statistics than if we have a column of numbers."
   ]
  },
  {
   "cell_type": "code",
   "execution_count": 72,
   "metadata": {},
   "outputs": [
    {
     "name": "stdout",
     "output_type": "stream",
     "text": [
      "   Name  Age           email\n",
      "a  John   23  john@gmail.com\n",
      "b  Jane   29  jane@gmail.com\n",
      "c   Sue   21   sue@gmail.com\n",
      "d  Fred   18  fred@gmail.com\n",
      "-----------------------------------\n",
      "             Age\n",
      "count   4.000000\n",
      "mean   22.750000\n",
      "std     4.645787\n",
      "min    18.000000\n",
      "25%    20.250000\n",
      "50%    22.000000\n",
      "75%    24.500000\n",
      "max    29.000000\n",
      "-----------------------------------\n",
      "count     4.000000\n",
      "mean     22.750000\n",
      "std       4.645787\n",
      "min      18.000000\n",
      "25%      20.250000\n",
      "50%      22.000000\n",
      "75%      24.500000\n",
      "max      29.000000\n",
      "Name: Age, dtype: float64\n",
      "-----------------------------------\n",
      "count        4\n",
      "unique       4\n",
      "top       John\n",
      "freq         1\n",
      "Name: Name, dtype: object\n",
      "-----------------------------------\n",
      "22.75\n",
      "-----------------------------------\n"
     ]
    }
   ],
   "source": [
    "print(df)\n",
    "\n",
    "print(\"-----------------------------------\")\n",
    "\n",
    "print(df.describe()) # returns mathematical statistics about the data with numerical values\n",
    "\n",
    "print(\"-----------------------------------\")\n",
    "\n",
    "# describe() can be used on a single column as well\n",
    "print(df['Age'].describe())\n",
    "\n",
    "print(\"-----------------------------------\")\n",
    "\n",
    "# calling describe() on a non-numerical column\n",
    "print(df['Name'].describe())\n",
    "\n",
    "print(\"-----------------------------------\")\n",
    "\n",
    "# getting mean of a column\n",
    "print(df['Age'].mean())\n",
    "\n",
    "print(\"-----------------------------------\")"
   ]
  },
  {
   "cell_type": "code",
   "execution_count": 71,
   "metadata": {},
   "outputs": [
    {
     "name": "stdout",
     "output_type": "stream",
     "text": [
      "['John' 'Jane' 'Sue' 'Fred']\n",
      "-----------------------------------\n",
      "Name\n",
      "John    1\n",
      "Jane    1\n",
      "Sue     1\n",
      "Fred    1\n",
      "Name: count, dtype: int64\n"
     ]
    }
   ],
   "source": [
    "# getting unique names\n",
    "print(df['Name'].unique())\n",
    "\n",
    "print(\"-----------------------------------\")\n",
    "\n",
    "# getting number of unique names\n",
    "print(df['Name'].value_counts())"
   ]
  },
  {
   "cell_type": "markdown",
   "metadata": {},
   "source": [
    "---\n",
    "\n",
    "## Map, Apply & Applymap"
   ]
  }
 ],
 "metadata": {
  "kernelspec": {
   "display_name": "Python 3",
   "language": "python",
   "name": "python3"
  },
  "language_info": {
   "codemirror_mode": {
    "name": "ipython",
    "version": 3
   },
   "file_extension": ".py",
   "mimetype": "text/x-python",
   "name": "python",
   "nbconvert_exporter": "python",
   "pygments_lexer": "ipython3",
   "version": "3.10.12"
  },
  "orig_nbformat": 4
 },
 "nbformat": 4,
 "nbformat_minor": 2
}
