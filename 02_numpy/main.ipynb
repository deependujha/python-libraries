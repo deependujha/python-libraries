{
 "cells": [
  {
   "cell_type": "markdown",
   "metadata": {},
   "source": [
    "## Install numpy:\n",
    "```bash\n",
    "pip install numpy\n",
    "```\n",
    "---\n",
    "\n",
    "## Why is numpy so fast?\n",
    "\n",
    "Because of **vectorization**. \n",
    "\n",
    "> What is Vectorization ?\n",
    "\n",
    "Vectorization is used to speed up the Python code without using loop. Using such a function can help in minimizing the running time of code efficiently. Various operations are being performed over vector such as dot product of vectors which is also known as scalar product as it produces single output, outer products which results in square matrix of dimension equal to length X length of the vectors, Element wise multiplication which products the element of same indexes and dimension of the matrix remain unchanged.\n",
    "\n",
    "---\n",
    "\n",
    "## Import numpy and check its version"
   ]
  },
  {
   "cell_type": "code",
   "execution_count": 1,
   "metadata": {},
   "outputs": [
    {
     "data": {
      "text/plain": [
       "'1.25.2'"
      ]
     },
     "execution_count": 1,
     "metadata": {},
     "output_type": "execute_result"
    }
   ],
   "source": [
    "import numpy as np\n",
    "np.__version__"
   ]
  },
  {
   "cell_type": "markdown",
   "metadata": {},
   "source": [
    "---\n",
    "\n",
    "## Numpy special constants"
   ]
  },
  {
   "cell_type": "code",
   "execution_count": 2,
   "metadata": {},
   "outputs": [
    {
     "name": "stdout",
     "output_type": "stream",
     "text": [
      "pi in numpy:  3.141592653589793\n",
      "e in numpy:  2.718281828459045\n",
      "e raised to 2:  7.38905609893065\n",
      "natural log of 2:  0.6931471805599453\n",
      "log of 2 to base 10:  0.3010299956639812\n",
      "log of 2 to base 2:  1.0\n",
      "=====================================\n",
      "infinity:  inf\n",
      "type of infinity:  <class 'float'>\n"
     ]
    }
   ],
   "source": [
    "## numpy special constants\n",
    "\n",
    "print(\"pi in numpy: \", np.pi)\n",
    "print(\"e in numpy: \", np.e)\n",
    "print(\"e raised to 2: \", np.exp(2))\n",
    "print(\"natural log of 2: \", np.log(2)) # natural log\n",
    "print(\"log of 2 to base 10: \", np.log10(2))\n",
    "print(\"log of 2 to base 2: \", np.log2(2))\n",
    "\n",
    "print(\"=====================================\")\n",
    "print(\"infinity: \", np.inf)\n",
    "print(\"type of infinity: \", type(np.Infinity))"
   ]
  },
  {
   "cell_type": "markdown",
   "metadata": {},
   "source": [
    "---\n",
    "\n",
    "## Creating numpy arrays\n",
    "\n",
    "    - np.array() -> create an array from a list or tuple\n",
    "    - np.zeros() -> create an array of zeros\n",
    "    - np.ones() -> create an array of ones\n",
    "    - np.full() -> create an array of a specific value\n",
    "    - np.empty() -> create an array of empty values\n",
    "    - np.arange() -> create an array of values from start to end\n",
    "    - np.linspace() -> create an array of values from start to end with a specific number of elements"
   ]
  },
  {
   "cell_type": "code",
   "execution_count": 3,
   "metadata": {},
   "outputs": [
    {
     "name": "stdout",
     "output_type": "stream",
     "text": [
      "myArray: [1 2 3 4 5]; type: <class 'numpy.ndarray'>\n",
      "myArray: [1 2 3 4 5]; type: <class 'numpy.ndarray'>\n",
      "myArray: [[ 1  2  3  4  5]\n",
      " [ 6  7  8  9 10]]; type: <class 'numpy.ndarray'>\n",
      "------------------------------------------------------------\n",
      "------------------------------------------------------------\n",
      "myZeros: [[0 0 0 0]\n",
      " [0 0 0 0]\n",
      " [0 0 0 0]]; type: <class 'numpy.ndarray'>\n",
      "------------------------------------------------------------\n",
      "------------------------------------------------------------\n",
      "myOnes: [[1. 1.]\n",
      " [1. 1.]\n",
      " [1. 1.]]; type: <class 'numpy.ndarray'>\n",
      "------------------------------------------------------------\n",
      "------------------------------------------------------------\n",
      "myFull: [[10 10 10 10]\n",
      " [10 10 10 10]\n",
      " [10 10 10 10]]; type: <class 'numpy.ndarray'>\n",
      "------------------------------------------------------------\n",
      "------------------------------------------------------------\n",
      "myEmpty: [[94826988281939              0              0              0]\n",
      " [             0              0              0              0]]; type: <class 'numpy.ndarray'>\n",
      "------------------------------------------------------------\n",
      "------------------------------------------------------------\n",
      "myRange1: [0 2 4 6 8]; type: <class 'numpy.ndarray'>\n",
      "myRange2: [0 1 2 3 4 5 6 7 8 9]; type: <class 'numpy.ndarray'>\n",
      "myRange3: [0 1 2 3 4 5 6 7 8 9]; type: <class 'numpy.ndarray'>\n",
      "------------------------------------------------------------\n",
      "------------------------------------------------------------\n",
      "myLinspace1: [ 0.   2.5  5.   7.5 10. ]; type: <class 'numpy.ndarray'>\n",
      "myLinspace2: [0. 2. 4. 6. 8.]; type: <class 'numpy.ndarray'>\n",
      "myLinspace3: (array([ 0. ,  2.5,  5. ,  7.5, 10. ]), 2.5); type: <class 'tuple'>\n",
      "myLinspace4: [ 0  2  5  7 10]; type: <class 'numpy.ndarray'>\n",
      "myLinspace5: 50; type: <class 'numpy.ndarray'>\n"
     ]
    }
   ],
   "source": [
    "# np.array() function\n",
    "\n",
    "myList = [1, 2, 3, 4, 5]\n",
    "myArray = np.array(myList)\n",
    "print(f\"myArray: {myArray}; type: {type(myArray)}\")\n",
    "\n",
    "myTup = (1, 2, 3, 4, 5)\n",
    "myArray = np.array(myTup)\n",
    "print(f\"myArray: {myArray}; type: {type(myArray)}\")\n",
    "\n",
    "my2DList = [[1, 2, 3, 4, 5], [6, 7, 8, 9, 10]]\n",
    "myArray = np.array(my2DList)\n",
    "print(f\"myArray: {myArray}; type: {type(myArray)}\")\n",
    "\n",
    "print(\"------------------------------------------------------------\")\n",
    "print(\"------------------------------------------------------------\")\n",
    "\n",
    "# np.zeros() function\n",
    "# pass in a tuple of the dimensions of the array and the data type (default is float)\n",
    "myZeros = np.zeros((3, 4), dtype=int)\n",
    "print(f\"myZeros: {myZeros}; type: {type(myZeros)}\")\n",
    "\n",
    "print(\"------------------------------------------------------------\")\n",
    "print(\"------------------------------------------------------------\")\n",
    "\n",
    "# np.ones() function\n",
    "\n",
    "myOnes = np.ones((3, 2))\n",
    "print(f\"myOnes: {myOnes}; type: {type(myOnes)}\")\n",
    "\n",
    "print(\"------------------------------------------------------------\")\n",
    "print(\"------------------------------------------------------------\")\n",
    "\n",
    "# np.full() function\n",
    "# returns a new array of given shape and type, filled with fill_value\n",
    "# fill_value is a scalar value\n",
    "\n",
    "myFull = np.full((3, 4), 10)\n",
    "print(f\"myFull: {myFull}; type: {type(myFull)}\")\n",
    "\n",
    "print(\"------------------------------------------------------------\")\n",
    "print(\"------------------------------------------------------------\")\n",
    "\n",
    "# np.empty() function\n",
    "# returns an array of random values.\n",
    "# The function empty creates an array whose initial content is random and depends on the state of the memory. \n",
    "# The reason to use empty over zeros (or something similar) is speed - just make sure to fill every element afterwards!\n",
    "\n",
    "myEmpty = np.empty((2, 4), dtype=np.int64)\n",
    "print(f\"myEmpty: {myEmpty}; type: {type(myEmpty)}\")\n",
    "\n",
    "print(\"------------------------------------------------------------\")\n",
    "print(\"------------------------------------------------------------\")\n",
    "\n",
    "# np.arange() function\n",
    "# returns evenly spaced values within a given interval\n",
    "# start (default is 0), stop (excluded), step (default is 1)\n",
    "\n",
    "myRange1 = np.arange(0, 10, 2)\n",
    "print(f\"myRange1: {myRange1}; type: {type(myRange1)}\")\n",
    "\n",
    "myRange2 = np.arange(0, 10) # start, stop, step (default is 1)\n",
    "print(f\"myRange2: {myRange2}; type: {type(myRange2)}\")\n",
    "\n",
    "myRange3 = np.arange(10) # start (default is 0), stop, step (default is 1)\n",
    "print(f\"myRange3: {myRange3}; type: {type(myRange3)}\")\n",
    "\n",
    "print(\"------------------------------------------------------------\")\n",
    "print(\"------------------------------------------------------------\")\n",
    "\n",
    "# np.linspace() function\n",
    "# returns evenly spaced numbers over a specified interval\n",
    "# start, stop, num (default is 50), endpoint (default is True), retstep {return step (spacing between adjacent elements)} (default is False), dtype (default is None)\n",
    "\n",
    "myLinspace1 = np.linspace(0, 10, 5)\n",
    "print(f\"myLinspace1: {myLinspace1}; type: {type(myLinspace1)}\")\n",
    "\n",
    "myLinspace2 = np.linspace(0, 10, 5, endpoint=False)\n",
    "print(f\"myLinspace2: {myLinspace2}; type: {type(myLinspace2)}\")\n",
    "\n",
    "myLinspace3 = np.linspace(0, 10, 5, retstep=True)\n",
    "print(f\"myLinspace3: {myLinspace3}; type: {type(myLinspace3)}\")\n",
    "\n",
    "myLinspace4 = np.linspace(0, 10, 5, dtype=int)\n",
    "print(f\"myLinspace4: {myLinspace4}; type: {type(myLinspace4)}\")\n",
    "\n",
    "myLinspace5 = np.linspace(0, 10) # default num is 50\n",
    "print(f\"myLinspace5: {len(myLinspace5)}; type: {type(myLinspace5)}\")\n",
    "\n"
   ]
  },
  {
   "cell_type": "markdown",
   "metadata": {},
   "source": [
    "---\n",
    "\n",
    "## Generating array with random numbers\n",
    "\n",
    "- The use of random number generation is an important part of the configuration and evaluation of many numerical and machine learning algorithms.\n",
    "\n",
    "- Whether you `need to randomly initialize weights in an artificial neural network`, split data into random sets, or randomly shuffle your dataset, being able to generate random numbers (actually, repeatable pseudo-random numbers) is essential.\n",
    "\n"
   ]
  },
  {
   "cell_type": "code",
   "execution_count": 4,
   "metadata": {},
   "outputs": [
    {
     "name": "stdout",
     "output_type": "stream",
     "text": [
      "[[3 6 5 4 8]\n",
      " [9 1 7 9 6]\n",
      " [8 0 5 0 9]\n",
      " [6 2 0 5 2]\n",
      " [6 3 7 0 9]]\n",
      "=====================================\n",
      "[[0.07538124 0.36882401 0.9331401  0.65137814 0.39720258]\n",
      " [0.78873014 0.31683612 0.56809865 0.86912739 0.43617342]\n",
      " [0.80214764 0.14376682 0.70426097 0.70458131 0.21879211]\n",
      " [0.92486763 0.44214076 0.90931596 0.05980922 0.18428708]\n",
      " [0.04735528 0.67488094 0.59462478 0.53331016 0.04332406]]\n"
     ]
    }
   ],
   "source": [
    "np.random.seed(1234)\n",
    "array = np.random.randint(0, 10, (5, 5))\n",
    "print(array)\n",
    "print(\"=====================================\")\n",
    "newArr = np.random.random((5, 5))\n",
    "print(newArr)"
   ]
  },
  {
   "cell_type": "markdown",
   "metadata": {},
   "source": [
    "---\n",
    "\n",
    "## Sort a numpy array"
   ]
  },
  {
   "cell_type": "code",
   "execution_count": 5,
   "metadata": {},
   "outputs": [
    {
     "name": "stdout",
     "output_type": "stream",
     "text": [
      "[[ 2  3  4]\n",
      " [ 1 21 43]]\n",
      "------------------\n",
      "[[ 1  3  4]\n",
      " [ 2 21 43]]\n"
     ]
    }
   ],
   "source": [
    "# np.sort() returns a sorted copy of an array\n",
    "# by default it sorts along the last axis (axis = -1)\n",
    "myArr = np.array([[4,3,2],[43,21,1]])\n",
    "\n",
    "myArr = np.sort(myArr)\n",
    "print(myArr)\n",
    "\n",
    "print(\"------------------\")\n",
    "# we can also sort along a specific axis\n",
    "myArr = np.sort(myArr, axis = 0)\n",
    "print(myArr)"
   ]
  },
  {
   "cell_type": "markdown",
   "metadata": {},
   "source": [
    "---\n",
    "\n",
    "# Concatenate two arrays"
   ]
  },
  {
   "cell_type": "code",
   "execution_count": 6,
   "metadata": {},
   "outputs": [
    {
     "name": "stdout",
     "output_type": "stream",
     "text": [
      "[[ 0  1  2  3  4]\n",
      " [ 5  6  7  8  9]\n",
      " [10 11 12 13 14]]\n",
      "[[17 18 19 20 21]\n",
      " [22 23 24 25 26]\n",
      " [27 28 29 30 31]]\n",
      "--------------------\n",
      "[[ 0  1  2  3  4]\n",
      " [ 5  6  7  8  9]\n",
      " [10 11 12 13 14]\n",
      " [17 18 19 20 21]\n",
      " [22 23 24 25 26]\n",
      " [27 28 29 30 31]]\n",
      "--------------------\n",
      "[[ 0  1  2  3  4]\n",
      " [ 5  6  7  8  9]\n",
      " [10 11 12 13 14]\n",
      " [17 18 19 20 21]\n",
      " [22 23 24 25 26]\n",
      " [27 28 29 30 31]]\n",
      "--------------------\n",
      "[[ 0  1  2  3  4 17 18 19 20 21 22 23 24 25]\n",
      " [ 5  6  7  8  9 26 27 28 29 30 31 32 33 34]\n",
      " [10 11 12 13 14 35 36 37 38 39 40 41 42 43]]\n"
     ]
    }
   ],
   "source": [
    "# The arrays must have the same shape, except in the dimension corresponding to axis (the first, by default).\n",
    "\n",
    "a = np.arange(15).reshape(3, 5)\n",
    "\n",
    "b = np.arange(17, 32).reshape(3, 5)\n",
    "\n",
    "print(a)\n",
    "print(b)\n",
    "\n",
    "print(\"--------------------\")\n",
    "print(np.concatenate((a, b))) # axis=0 (default)\n",
    "print(\"--------------------\")\n",
    "\n",
    "print(np.concatenate((a, b), axis=0))\n",
    "print(\"--------------------\")\n",
    "\n",
    "b = np.arange(17, 44).reshape(3, 9)\n",
    "\n",
    "print(np.concatenate((a, b), axis=1))\n"
   ]
  },
  {
   "cell_type": "markdown",
   "metadata": {},
   "source": [
    "---\n",
    "\n",
    "## know the shape and size of array\n",
    "\n",
    "- `ndarray.ndim` will tell you the number of axes, or dimensions, of the array.\n",
    "\n",
    "- `ndarray.size` will tell you the total number of elements of the array. This is the product of the elements of the array’s shape.\n",
    "\n",
    "- `ndarray.shape` will display a tuple of integers that indicate the number of elements stored along each dimension of the array. "
   ]
  },
  {
   "cell_type": "code",
   "execution_count": 7,
   "metadata": {},
   "outputs": [
    {
     "name": "stdout",
     "output_type": "stream",
     "text": [
      "dimensions: 2\n",
      "shape: (3, 9)\n",
      "size: 27\n"
     ]
    }
   ],
   "source": [
    "b = np.arange(17, 44).reshape(3, 9)\n",
    "\n",
    "print(f\"dimensions: {b.ndim}\")\n",
    "print(f\"shape: {b.shape}\")\n",
    "print(f\"size: {b.size}\")"
   ]
  },
  {
   "cell_type": "markdown",
   "metadata": {},
   "source": [
    "---\n",
    "\n",
    "## Reshape the array"
   ]
  },
  {
   "cell_type": "code",
   "execution_count": 8,
   "metadata": {},
   "outputs": [
    {
     "name": "stdout",
     "output_type": "stream",
     "text": [
      "[ 0  1  2  3  4  5  6  7  8  9 10 11 12 13 14]\n",
      "--------------------\n",
      "[[ 0  1  2  3  4]\n",
      " [ 5  6  7  8  9]\n",
      " [10 11 12 13 14]]\n",
      "--------------------\n",
      "[[ 0  1  2]\n",
      " [ 3  4  5]\n",
      " [ 6  7  8]\n",
      " [ 9 10 11]\n",
      " [12 13 14]]\n"
     ]
    }
   ],
   "source": [
    "a = np.arange(15)\n",
    "print(a)\n",
    "print(\"--------------------\")\n",
    "\n",
    "# now, let's reshape it\n",
    "b = a.reshape(3, 5)\n",
    "print(b)\n",
    "print(\"--------------------\")\n",
    "\n",
    "# let's reshape it again with (-1)\n",
    "c = a.reshape(5, -1) # -1 means \"whatever is needed\"\n",
    "print(c)"
   ]
  },
  {
   "cell_type": "markdown",
   "metadata": {},
   "source": [
    "---\n",
    "\n",
    "## Indexing & Slicing"
   ]
  },
  {
   "cell_type": "code",
   "execution_count": 9,
   "metadata": {},
   "outputs": [
    {
     "name": "stdout",
     "output_type": "stream",
     "text": [
      "[[ 0  1  2  3  4]\n",
      " [ 5  6  7  8  9]\n",
      " [10 11 12 13 14]]\n",
      "--------------------\n",
      "[0 1 2 3 4]\n",
      "--------------------\n",
      "[ 0  5 10]\n",
      "--------------------\n",
      "7\n",
      "--------------------\n",
      "[[ 7  8  9]\n",
      " [12 13 14]]\n",
      "--------------------\n"
     ]
    }
   ],
   "source": [
    "a = np.arange(15).reshape(3, 5)\n",
    "\n",
    "print(a)\n",
    "print(\"--------------------\")\n",
    "\n",
    "# to access first row\n",
    "print(a[0])\n",
    "print(\"--------------------\")\n",
    "\n",
    "# to access first column\n",
    "print(a[:, 0])\n",
    "print(\"--------------------\")\n",
    "\n",
    "# to access i'th row j'th column\n",
    "print(a[1, 2]) # 2nd row, 3rd column\n",
    "print(\"--------------------\")\n",
    "\n",
    "# using negative index\n",
    "print(a[-2:, -3:]) # last row, last column\n",
    "print(\"--------------------\")\n"
   ]
  },
  {
   "cell_type": "markdown",
   "metadata": {},
   "source": [
    "---\n",
    "\n",
    "## selecting a subset of rows and columns based on a condition"
   ]
  },
  {
   "cell_type": "code",
   "execution_count": 10,
   "metadata": {},
   "outputs": [
    {
     "name": "stdout",
     "output_type": "stream",
     "text": [
      "[[ True  True  True  True]\n",
      " [False False False False]\n",
      " [ True False  True False]]\n",
      "------------------\n",
      "[1 2 3 4 3 1]\n"
     ]
    }
   ],
   "source": [
    "a = np.array([[1 , 2, 3, 4], [5, 6, 7, 8], [3, 10, 1, 12]])\n",
    "\n",
    "print(a<5)\n",
    "\n",
    "print(\"------------------\")\n",
    "\n",
    "print(a[a<5])"
   ]
  },
  {
   "cell_type": "code",
   "execution_count": 11,
   "metadata": {},
   "outputs": [
    {
     "name": "stdout",
     "output_type": "stream",
     "text": [
      "[[False  True False]\n",
      " [ True False  True]\n",
      " [False  True False]]\n",
      "--------------------\n",
      "[2 4 6 8]\n"
     ]
    }
   ],
   "source": [
    "## selecting elements which are even (divisible by 2)\n",
    "arr = np.array([[1, 2, 3], [4, 5, 6], [7, 8, 9]])\n",
    "\n",
    "print(arr % 2 == 0)\n",
    "print(\"--------------------\")\n",
    "print(arr[arr % 2 == 0])"
   ]
  },
  {
   "cell_type": "code",
   "execution_count": 12,
   "metadata": {},
   "outputs": [
    {
     "name": "stdout",
     "output_type": "stream",
     "text": [
      "[[ True  True  True]\n",
      " [False False False]\n",
      " [False  True  True]]\n",
      "------------------\n",
      "[1 2 3 8 9]\n"
     ]
    }
   ],
   "source": [
    "# selecting elements which are either less than 4 or greater than 7\n",
    "arr = np.array([[1, 2, 3], [4, 5, 6], [7, 8, 9]])\n",
    "\n",
    "mask = (arr < 4) | (arr > 7)\n",
    "print(mask)\n",
    "print(\"------------------\")\n",
    "print(arr[mask])"
   ]
  },
  {
   "cell_type": "markdown",
   "metadata": {},
   "source": [
    "---\n",
    "\n",
    "## `np.nonzero` - find indices of non-zero elements\n",
    "\n",
    "- for 1D array, returns a tuple of indices for non-zero elements\n",
    "\n",
    "- for 2D array, returns a tuple of arrays of row and column indices for non-zero elements.\n",
    "The first array contains row indices, the second array contains column indices.\n",
    "`arr[row_indices[i], col_indices[i]] will be non-zero for i in range(len(row_indices))`."
   ]
  },
  {
   "cell_type": "code",
   "execution_count": 13,
   "metadata": {},
   "outputs": [
    {
     "name": "stdout",
     "output_type": "stream",
     "text": [
      "> For 1D array\n",
      "\n",
      "[0 1 2 3 4 5 6 7 8 9]\n",
      "------------------\n",
      "(array([0, 2, 4, 6, 8]),)\n",
      "------------------\n",
      "[0 2 4 6 8]\n",
      "------------------\n",
      "------------------\n",
      "\n",
      "> For 2D array\n",
      "\n",
      "[[0 1 2 3 4]\n",
      " [5 6 7 8 9]]\n",
      "------------------\n",
      "(array([0, 0, 0, 1, 1]), array([0, 2, 4, 1, 3]))\n",
      "------------------\n",
      "[0 2 4 6 8]\n"
     ]
    }
   ],
   "source": [
    "## for 1D array\n",
    "\n",
    "print(\"> For 1D array\\n\")\n",
    "arr = np.arange(10)\n",
    "print(arr)\n",
    "\n",
    "print(\"------------------\")\n",
    "\n",
    "nonZeroIndices = np.nonzero(arr%2==0)\n",
    "print(nonZeroIndices)\n",
    "\n",
    "print(\"------------------\")\n",
    "\n",
    "print(arr[nonZeroIndices])\n",
    "\n",
    "print(\"------------------\")\n",
    "print(\"------------------\")\n",
    "\n",
    "## for 2D array\n",
    "print(\"\\n> For 2D array\\n\")\n",
    "\n",
    "arr = arr.reshape(2,5)\n",
    "print(arr)\n",
    "\n",
    "print(\"------------------\")\n",
    "\n",
    "nonZeroIndices = np.nonzero(arr%2==0)\n",
    "print(nonZeroIndices)\n",
    "\n",
    "print(\"------------------\")\n",
    "\n",
    "print(arr[nonZeroIndices])"
   ]
  },
  {
   "cell_type": "markdown",
   "metadata": {},
   "source": [
    "---\n",
    "\n",
    "## `np.hstack`, `np.vstack`, `np.hsplit`\n",
    "\n",
    "- `np.hstack` : horizontally stack\n",
    "\n",
    "- `np.vstack` : vertically stack\n",
    "\n",
    "- `np.hsplit` : horizontally split"
   ]
  },
  {
   "cell_type": "code",
   "execution_count": 14,
   "metadata": {},
   "outputs": [
    {
     "name": "stdout",
     "output_type": "stream",
     "text": [
      "np.hstack([a1, a2]) =\n",
      " [[1 1 3 3]\n",
      " [2 2 4 4]]\n",
      "------------------\n",
      "np.vstack([a1, a2]) =\n",
      " [[1 1]\n",
      " [2 2]\n",
      " [3 3]\n",
      " [4 4]]\n",
      "------------------\n",
      "x =\n",
      " [[ 1  2  3  4  5  6  7  8  9 10 11 12]\n",
      " [13 14 15 16 17 18 19 20 21 22 23 24]]\n",
      "------------------\n",
      "np.hsplit(x, 3) =\n",
      " [array([[ 1,  2,  3,  4],\n",
      "       [13, 14, 15, 16]]), array([[ 5,  6,  7,  8],\n",
      "       [17, 18, 19, 20]]), array([[ 9, 10, 11, 12],\n",
      "       [21, 22, 23, 24]])]\n"
     ]
    }
   ],
   "source": [
    "a1 = np.array([[1, 1],\n",
    "               [2, 2]])\n",
    "\n",
    "a2 = np.array([[3, 3],\n",
    "               [4, 4]])\n",
    "\n",
    "print(\"np.hstack([a1, a2]) =\\n\", np.hstack([a1, a2]))\n",
    "print(\"------------------\")\n",
    "\n",
    "print(\"np.vstack([a1, a2]) =\\n\", np.vstack([a1, a2]))\n",
    "print(\"------------------\")\n",
    "\n",
    "x = np.arange(1, 25).reshape(2, 12)\n",
    "print(\"x =\\n\", x)\n",
    "print(\"------------------\")\n",
    "\n",
    "print(\"np.hsplit(x, 3) =\\n\", np.hsplit(x, 3)) # Split into 3 equal-shaped arrays"
   ]
  },
  {
   "cell_type": "markdown",
   "metadata": {},
   "source": [
    "---\n",
    "\n",
    "## Shallow Copy (View) and Deep Copy\n",
    "\n",
    "🛑 If you wish to copy a slice of a bigger array, first you should slice it and then copy it. Doing it the other way around, will take more time and memory. (Creating deep copy is expensive)"
   ]
  },
  {
   "cell_type": "code",
   "execution_count": 15,
   "metadata": {},
   "outputs": [
    {
     "name": "stdout",
     "output_type": "stream",
     "text": [
      "is a & b same?  True\n",
      "id of a:  139935537890480\n",
      "id of b:  139935537890480\n"
     ]
    }
   ],
   "source": [
    "# No copy at all\n",
    "a = np.arange(12).reshape(3, 4)\n",
    "b = a\n",
    "print(\"is a & b same? \",b is a) # b is just a reference of a. Any change in b will affect a\n",
    "\n",
    "# in python, we have an `id` function to check the memory address of a variable. It's different for each unique object\n",
    "print(\"id of a: \",id(a))\n",
    "print(\"id of b: \",id(b))"
   ]
  },
  {
   "cell_type": "code",
   "execution_count": 16,
   "metadata": {},
   "outputs": [
    {
     "name": "stdout",
     "output_type": "stream",
     "text": [
      "is a & c same?  False\n",
      "a & c base is same?  False\n",
      "id of a:  139935537891248\n",
      "id of c:  139935537891344\n",
      "a.shape:  (3, 4)\n",
      "c.shape:  (2, 6)\n",
      "a:  [[   0    1    2    3]\n",
      " [1234    5    6    7]\n",
      " [   8    9   10   11]]\n",
      "\n",
      "***slicing an array returns a view of it. Different objects, but same data***\n",
      "\n"
     ]
    }
   ],
   "source": [
    "# shallow copy (view)\n",
    "# - Different array objects can share the same data. \n",
    "# The view method creates a new array object that looks at the **same data**.\n",
    "\n",
    "a = np.arange(12).reshape(3, 4)\n",
    "c = a.view()\n",
    "\n",
    "print(\"is a & c same? \",c is a) # False, because they are different objects\n",
    "print(\"a & c base is same? \",c.base is a) # True, because they share the same data\n",
    "\n",
    "# id will be different, because they are different objects\n",
    "print(\"id of a: \",id(a))\n",
    "print(\"id of c: \",id(c))\n",
    "\n",
    "# change the shape of c. a's shape will not change\n",
    "c = c.reshape(2, 6)\n",
    "print(\"a.shape: \",a.shape)\n",
    "print(\"c.shape: \",c.shape)\n",
    "\n",
    "# BUT, change the value of c. a's value will change\n",
    "c[0, 4] = 1234\n",
    "print(\"a: \",a)\n",
    "\n",
    "# slicing an array returns a view of it\n",
    "s = a[:, 1:3]\n",
    "print(\"\\n***slicing an array returns a view of it. Different objects, but same data***\\n\")"
   ]
  },
  {
   "cell_type": "code",
   "execution_count": 17,
   "metadata": {},
   "outputs": [
    {
     "name": "stdout",
     "output_type": "stream",
     "text": [
      "is a and b the same object? False\n",
      "id of a: 139935537891728\n",
      "id of b: 139935537891248\n",
      "a & b base is same?  False\n",
      "a:\n",
      " [[ 0  1  2  3]\n",
      " [ 4  5  6  7]\n",
      " [ 8  9 10 11]]\n",
      "changing b doesn't affect a\n"
     ]
    }
   ],
   "source": [
    "# deep copy\n",
    "# The copy method makes a complete copy of the array and its data.\n",
    "\n",
    "a = np.arange(12).reshape(3, 4)\n",
    "b = a.copy()  # deep copy\n",
    "\n",
    "print(\"is a and b the same object?\", a is b) # False, they are different objects, and a and b have different memory addresses and separate data\n",
    "\n",
    "print(\"id of a:\", id(a))\n",
    "print(\"id of b:\", id(b)) # different memory addresses\n",
    "\n",
    "print(\"a & b base is same? \",b.base is a) # False, b doesn't share anything with a\n",
    "\n",
    "b[0, 0] = 100\n",
    "print(\"a:\\n\", a)\n",
    "print(\"changing b doesn't affect a\")\n"
   ]
  },
  {
   "cell_type": "markdown",
   "metadata": {},
   "source": [
    "---\n",
    "\n",
    "## Basic numpy array operations\n",
    "\n",
    "- axis-0: rows\n",
    "- axis-1: columns\n",
    "\n",
    "## How to remember: 🍏 🪵\n",
    "- Suppose, you've a log of wood and you want to cut it into pieces.\n",
    "- If you `cut it vertically`, it'll be `axis=0`.\n",
    "- If you `cut it horizontally`, it'll be `axis=1`.\n",
    "\n",
    "\n",
    "### Trick 😎:\n",
    "    - If you want to find sum/min/etc along rows, use axis=1\n",
    "    - If you want to find sum/min/etc along columns, use axis=0"
   ]
  },
  {
   "cell_type": "code",
   "execution_count": 18,
   "metadata": {},
   "outputs": [
    {
     "name": "stdout",
     "output_type": "stream",
     "text": [
      "a: [[ 0  1  2  3]\n",
      " [ 4  5  6  7]\n",
      " [ 8  9 10 11]]\n",
      "=======================================\n",
      "min of all elements: 0\n",
      "min of each column (axis = 0): [0 1 2 3]\n",
      "min of each row (axis = 1): [0 4 8]\n",
      "=======================================\n",
      "max of all elements: 11\n",
      "max of each column: [ 8  9 10 11]\n",
      "max of each row: [ 3  7 11]\n",
      "=======================================\n",
      "sum of all elements: 66\n",
      "sum of each column: [12 15 18 21]\n",
      "sum of each row: [ 6 22 38]\n",
      "=======================================\n",
      "mean of all elements: 5.5\n",
      "mean of each column: [4. 5. 6. 7.]\n",
      "mean of each row: [1.5 5.5 9.5]\n",
      "=======================================\n",
      "standard deviation of all elements: 3.452052529534663\n",
      "standard deviation of each column: [3.26598632 3.26598632 3.26598632 3.26598632]\n",
      "standard deviation of each row: [1.11803399 1.11803399 1.11803399]\n",
      "=======================================\n",
      "variance of all elements: 11.916666666666666\n",
      "variance of each column: [10.66666667 10.66666667 10.66666667 10.66666667]\n",
      "variance of each row: [1.25 1.25 1.25]\n",
      "=======================================\n"
     ]
    }
   ],
   "source": [
    "a = np.arange(12).reshape(3, 4)\n",
    "print(\"a:\", a)\n",
    "print(\"=======================================\")\n",
    "print(\"min of all elements:\", a.min())\n",
    "print(\"min of each column (axis = 0):\", a.min(axis=0))\n",
    "print(\"min of each row (axis = 1):\", a.min(axis=1))\n",
    "print(\"=======================================\")\n",
    "print(\"max of all elements:\", a.max())\n",
    "print(\"max of each column:\", a.max(axis=0))\n",
    "print(\"max of each row:\", a.max(axis=1))\n",
    "print(\"=======================================\")\n",
    "print(\"sum of all elements:\", a.sum())\n",
    "print(\"sum of each column:\", a.sum(axis=0))\n",
    "print(\"sum of each row:\", a.sum(axis=1))\n",
    "print(\"=======================================\")\n",
    "print(\"mean of all elements:\", a.mean())\n",
    "print(\"mean of each column:\", a.mean(axis=0))\n",
    "print(\"mean of each row:\", a.mean(axis=1))\n",
    "print(\"=======================================\")\n",
    "print(\"standard deviation of all elements:\", a.std())\n",
    "print(\"standard deviation of each column:\", a.std(axis=0))\n",
    "print(\"standard deviation of each row:\", a.std(axis=1))\n",
    "print(\"=======================================\")\n",
    "print(\"variance of all elements:\", a.var())\n",
    "print(\"variance of each column:\", a.var(axis=0))\n",
    "print(\"variance of each row:\", a.var(axis=1))\n",
    "print(\"=======================================\")\n",
    "\n"
   ]
  },
  {
   "cell_type": "markdown",
   "metadata": {},
   "source": [
    "---\n",
    "\n",
    "## Arithmetic operations between 2 NumPy arrays\n",
    "\n",
    "- If the arrays have the same shape, the operation is done element-wise\n",
    "\n",
    "- If the arrays do not have the same shape, NumPy will try to broadcast them to the same shape. If they cannot be broadcast, a `ValueError` is raised.\n",
    "\n",
    "- `To be broadcasted, the size of each dimension must be either the same or one of them is 1.`"
   ]
  },
  {
   "cell_type": "code",
   "execution_count": 19,
   "metadata": {},
   "outputs": [],
   "source": [
    "a = np.arange(15).reshape(3, 5)\n",
    "b = np.arange(15,30).reshape(3, 5)\n",
    "c = 2\n",
    "\n",
    "# we can perform all the below operations on numpy arrays\n",
    "\n",
    "# print(a+b)\n",
    "# print(a-b)\n",
    "# print(a*b)\n",
    "# print(a/b)\n",
    "# print(a%b)\n",
    "# print(a**b)\n",
    "\n",
    "# =====================\n",
    "\n",
    "# broadcasting\n",
    "\n",
    "# print(a+c)\n",
    "# print(a-c)\n",
    "# print(a*c)\n",
    "# print(a/c)\n",
    "# print(a%c)\n",
    "# print(a**c)"
   ]
  },
  {
   "cell_type": "markdown",
   "metadata": {},
   "source": [
    "---\n",
    "\n",
    "## Matrices"
   ]
  },
  {
   "cell_type": "code",
   "execution_count": 20,
   "metadata": {},
   "outputs": [
    {
     "name": "stdout",
     "output_type": "stream",
     "text": [
      "[[1 2 3]\n",
      " [4 5 6]]\n",
      "=====================================\n",
      "Creating an identity matrix using numpy.eye(no_of_rows)\n",
      "[[1. 0. 0.]\n",
      " [0. 1. 0.]\n",
      " [0. 0. 1.]]\n",
      "=====================================\n",
      "Creating an array of zeros using numpy.zeros((no_of_rows, no_of_columns))\n",
      "[[0. 0. 0.]\n",
      " [0. 0. 0.]\n",
      " [0. 0. 0.]]\n",
      "=====================================\n",
      "Creating an array of ones using numpy.ones((no_of_rows, no_of_columns))\n",
      "[[1. 1. 1.]\n",
      " [1. 1. 1.]\n",
      " [1. 1. 1.]]\n",
      "=====================================\n",
      "Creating an array of random numbers using numpy.random.rand(no_of_rows, no_of_columns)\n",
      "[[0.56143308 0.32966845 0.50296683]\n",
      " [0.11189432 0.60719371 0.56594464]\n",
      " [0.00676406 0.61744171 0.91212289]]\n"
     ]
    }
   ],
   "source": [
    "a = np.array([[1, 2, 3], [4, 5, 6]])\n",
    "print(a)\n",
    "\n",
    "print(\"=====================================\")\n",
    "print(\"Creating an identity matrix using numpy.eye(no_of_rows)\")\n",
    "print(np.eye(3))\n",
    "print(\"=====================================\")\n",
    "print(\"Creating an array of zeros using numpy.zeros((no_of_rows, no_of_columns))\")\n",
    "print(np.zeros((3, 3)))\n",
    "print(\"=====================================\")\n",
    "print(\"Creating an array of ones using numpy.ones((no_of_rows, no_of_columns))\")\n",
    "print(np.ones((3, 3)))\n",
    "print(\"=====================================\")\n",
    "print(\"Creating an array of random numbers using numpy.random.rand(no_of_rows, no_of_columns)\")\n",
    "print(np.random.rand(3, 3))"
   ]
  },
  {
   "cell_type": "markdown",
   "metadata": {},
   "source": [
    "---\n",
    "\n",
    "## reversing the array\n",
    "\n",
    "- use `np.flip` to reverse the array\n",
    "\n",
    "- For 2D array, it reverses both rows and columns\n",
    "\n",
    "- We can specify the axis to reverse"
   ]
  },
  {
   "cell_type": "code",
   "execution_count": 21,
   "metadata": {},
   "outputs": [
    {
     "name": "stdout",
     "output_type": "stream",
     "text": [
      "[8 7 6 5 4 3 2 1]\n",
      "==================\n",
      "arr:  [[1 2 3 4]\n",
      " [5 6 7 8]]\n",
      "==================\n",
      "reversed_arr:  [[8 7 6 5]\n",
      " [4 3 2 1]]\n",
      "==================\n",
      "reversed_arr along row:  [[5 6 7 8]\n",
      " [1 2 3 4]]\n",
      "==================\n",
      "reversed_arr along column:  [[4 3 2 1]\n",
      " [8 7 6 5]]\n"
     ]
    }
   ],
   "source": [
    "arr = np.array([1, 2, 3, 4, 5, 6, 7, 8])\n",
    "reversed_arr = np.flip(arr)\n",
    "print(reversed_arr)\n",
    "print(\"==================\")\n",
    "arr = arr.reshape(2, 4)\n",
    "print(\"arr: \",arr)\n",
    "print(\"==================\")\n",
    "reversed_arr = np.flip(arr)\n",
    "print(\"reversed_arr: \",reversed_arr) \n",
    "print(\"==================\")\n",
    "reversed_arr = np.flip(arr, axis=0)\n",
    "print(\"reversed_arr along row: \",reversed_arr)\n",
    "print(\"==================\")\n",
    "reversed_arr = np.flip(arr, axis=1)\n",
    "print(\"reversed_arr along column: \",reversed_arr)"
   ]
  },
  {
   "cell_type": "markdown",
   "metadata": {},
   "source": [
    "---\n",
    "\n",
    "## Flattening a multi-dimensional array\n",
    "\n",
    "- `flatten()` returns a copy of the array collapsed into one dimension.\n",
    "- `ravel()` returns a view of the original array collapsed into one dimension.\n"
   ]
  },
  {
   "cell_type": "code",
   "execution_count": 22,
   "metadata": {},
   "outputs": [
    {
     "name": "stdout",
     "output_type": "stream",
     "text": [
      "[[ 1  2  3  4]\n",
      " [ 5  6  7  8]\n",
      " [ 9 10 11 12]]\n",
      "[99  2  3  4  5  6  7  8  9 10 11 12]\n",
      "=======================================\n",
      "[[99  2  3  4]\n",
      " [ 5  6  7  8]\n",
      " [ 9 10 11 12]]\n",
      "[99  2  3  4  5  6  7  8  9 10 11 12]\n"
     ]
    }
   ],
   "source": [
    "x = np.array([[1 , 2, 3, 4], [5, 6, 7, 8], [9, 10, 11, 12]])\n",
    "a1 = x.flatten()\n",
    "a1[0] = 99\n",
    "print(x)  # Original array\n",
    "print(a1) # Flattened array\n",
    "\n",
    "print(\"=======================================\")\n",
    "\n",
    "a2 = x.ravel()\n",
    "a2[0] = 99\n",
    "print(x)  # Original array\n",
    "print(a2) # Flattened array"
   ]
  },
  {
   "cell_type": "markdown",
   "metadata": {},
   "source": [
    "---\n",
    "\n",
    "## Transpose of matrix\n",
    "\n",
    "- we can use both `transpose` and `T` to transpose a matrix\n"
   ]
  },
  {
   "cell_type": "code",
   "execution_count": 23,
   "metadata": {},
   "outputs": [
    {
     "name": "stdout",
     "output_type": "stream",
     "text": [
      "[[ 0  1  2  3  4]\n",
      " [ 5  6  7  8  9]\n",
      " [10 11 12 13 14]]\n",
      "=======================\n",
      "[[ 0  5 10]\n",
      " [ 1  6 11]\n",
      " [ 2  7 12]\n",
      " [ 3  8 13]\n",
      " [ 4  9 14]]\n",
      "a transpose shape:  (5, 3)\n",
      "=======================\n",
      "[[ 0  5 10]\n",
      " [ 1  6 11]\n",
      " [ 2  7 12]\n",
      " [ 3  8 13]\n",
      " [ 4  9 14]]\n",
      "a transpose shape:  (5, 3)\n",
      "=======================\n",
      "'a' remains the same. The above operations return a new array and do not modify the original array.\n",
      "[[ 0  1  2  3  4]\n",
      " [ 5  6  7  8  9]\n",
      " [10 11 12 13 14]]\n"
     ]
    }
   ],
   "source": [
    "a = np.arange(15).reshape(3, 5)\n",
    "print(a)\n",
    "print(\"=======================\")\n",
    "print(a.T)\n",
    "print(\"a transpose shape: \", a.T.shape)\n",
    "print(\"=======================\")\n",
    "print(a.transpose())\n",
    "print(\"a transpose shape: \", a.transpose().shape)\n",
    "print(\"=======================\")\n",
    "print(\"'a' remains the same. The above operations return a new array and do not modify the original array.\")\n",
    "print(a)"
   ]
  },
  {
   "cell_type": "markdown",
   "metadata": {},
   "source": [
    "---\n",
    "\n",
    "## `matrix multiplication` (dot product)\n",
    "\n",
    "- no of columns in first matrix must be equal to no of rows in second matrix\n",
    "\n",
    "- `np.dot(a,b)` or `a.dot(b)` or `a @ b`"
   ]
  },
  {
   "cell_type": "code",
   "execution_count": 24,
   "metadata": {},
   "outputs": [
    {
     "name": "stdout",
     "output_type": "stream",
     "text": [
      "[[ 0  1  2  3  4]\n",
      " [ 5  6  7  8  9]\n",
      " [10 11 12 13 14]]\n",
      "[[ 90  91  92]\n",
      " [ 93  94  95]\n",
      " [ 96  97  98]\n",
      " [ 99 100 101]\n",
      " [102 103 104]]\n",
      "====================\n",
      "dot product of a and b: \n",
      "[[ 990 1000 1010]\n",
      " [3390 3425 3460]\n",
      " [5790 5850 5910]]\n",
      "====================\n",
      "dot product of a and b: \n",
      "[[ 990 1000 1010]\n",
      " [3390 3425 3460]\n",
      " [5790 5850 5910]]\n",
      "====================\n",
      "dot product of a and b: \n",
      "[[ 990 1000 1010]\n",
      " [3390 3425 3460]\n",
      " [5790 5850 5910]]\n"
     ]
    }
   ],
   "source": [
    "a = np.arange(15).reshape(3, 5)\n",
    "b = np.arange(90,105).reshape(5, 3)\n",
    "\n",
    "print(a)\n",
    "print(b)\n",
    "print(\"====================\")\n",
    "print(\"dot product of a and b: \")\n",
    "print(np.dot(a,b))\n",
    "print(\"====================\")\n",
    "print(\"dot product of a and b: \")\n",
    "print(a.dot(b))\n",
    "print(\"====================\")\n",
    "print(\"dot product of a and b: \")\n",
    "print(a @ b)"
   ]
  },
  {
   "cell_type": "markdown",
   "metadata": {},
   "source": [
    "---\n",
    "\n",
    "## Finding `determinants`, `inverse` & `eigenvalues` of matrices"
   ]
  },
  {
   "cell_type": "code",
   "execution_count": 25,
   "metadata": {},
   "outputs": [
    {
     "name": "stdout",
     "output_type": "stream",
     "text": [
      "[[ 7 -4  2]\n",
      " [ 3  1 -5]\n",
      " [ 2  2 -5]]\n",
      "===============================\n",
      "determinant of a:  23.0\n",
      "===============================\n",
      "inverse of a:  [[ 0.2173913  -0.69565217  0.7826087 ]\n",
      " [ 0.2173913  -1.69565217  1.7826087 ]\n",
      " [ 0.17391304 -0.95652174  0.82608696]]\n",
      "===============================\n",
      "eigenvalues of a:  [ 6.08577221+0.j         -1.5428861 +1.18271265j -1.5428861 -1.18271265j]\n"
     ]
    }
   ],
   "source": [
    "a = np.array([[7,-4,2],[3,1,-5],[2,2,-5]])\n",
    "print(a)\n",
    "print(\"===============================\")\n",
    "\n",
    "print(\"determinant of a: \", np.linalg.det(a))\n",
    "print(\"===============================\")\n",
    "\n",
    "print(\"inverse of a: \", np.linalg.inv(a))\n",
    "print(\"===============================\")\n",
    "\n",
    "print(\"eigenvalues of a: \", np.linalg.eigvals(a))\n"
   ]
  },
  {
   "cell_type": "markdown",
   "metadata": {},
   "source": [
    "---\n",
    "\n",
    "## some numpy mathematical methods\n",
    "\n",
    "```py\n",
    "a = np.array([1, 2, 3])\n",
    "\n",
    "print(\"square of array\" ,np.square(a))\n",
    "print(\"square root of array\" ,np.sqrt(a))\n",
    "print(\"log of array\" ,np.log(a))\n",
    "print(\"exp of array\" ,np.exp(a))\n",
    "```"
   ]
  },
  {
   "cell_type": "code",
   "execution_count": 26,
   "metadata": {},
   "outputs": [
    {
     "name": "stdout",
     "output_type": "stream",
     "text": [
      "sum of array 6\n",
      "max of array 3\n",
      "mean of array 2.0\n",
      "median of array 2.0\n",
      "standard deviation of array 0.816496580927726\n",
      "variance of array 0.6666666666666666\n",
      "-=====================--=====================--=====================-\n",
      "square of array [1 4 9]\n",
      "square root of array [1.         1.41421356 1.73205081]\n",
      "log of array [0.         0.69314718 1.09861229]\n",
      "exp of array [ 2.71828183  7.3890561  20.08553692]\n"
     ]
    }
   ],
   "source": [
    "a = np.array([1, 2, 3])\n",
    "\n",
    "print(\"sum of array\" ,np.sum(a))\n",
    "print(\"max of array\" ,np.max(a))\n",
    "print(\"mean of array\" ,np.mean(a))\n",
    "print(\"median of array\" ,np.median(a))\n",
    "print(\"standard deviation of array\" ,np.std(a))\n",
    "print(\"variance of array\" ,np.var(a))\n",
    "\n",
    "print(\"-=====================--=====================--=====================-\")\n",
    "\n",
    "print(\"square of array\" ,np.square(a))\n",
    "print(\"square root of array\" ,np.sqrt(a))\n",
    "print(\"log of array\" ,np.log(a))\n",
    "print(\"exp of array\" ,np.exp(a))\n"
   ]
  },
  {
   "cell_type": "markdown",
   "metadata": {},
   "source": [
    "---\n",
    "\n",
    "## Finding `mean-squared-error` using `numpy`\n"
   ]
  },
  {
   "cell_type": "code",
   "execution_count": 27,
   "metadata": {},
   "outputs": [
    {
     "name": "stdout",
     "output_type": "stream",
     "text": [
      "0.09899832375101847\n"
     ]
    }
   ],
   "source": [
    "y_pred = np.arange(10)\n",
    "y_true = np.arange(10) + np.random.rand(10) - 0.5\n",
    "\n",
    "mean_squared_error = np.mean((y_pred - y_true)**2)\n",
    "print(mean_squared_error)"
   ]
  },
  {
   "cell_type": "markdown",
   "metadata": {},
   "source": [
    "---\n",
    "\n",
    "## How to `save` and `load` numpy data\n",
    "\n",
    "- [visit here](https://numpy.org/doc/stable/user/absolute_beginners.html#how-to-save-and-load-numpy-objects) for more information"
   ]
  },
  {
   "cell_type": "code",
   "execution_count": 28,
   "metadata": {},
   "outputs": [],
   "source": [
    "a = np.array([[1, 2, 3],[7,5,4]])\n",
    "\n",
    "# save to file\n",
    "np.save('my_array', a)"
   ]
  },
  {
   "cell_type": "code",
   "execution_count": 29,
   "metadata": {},
   "outputs": [
    {
     "data": {
      "text/plain": [
       "array([[1, 2, 3],\n",
       "       [7, 5, 4]])"
      ]
     },
     "execution_count": 29,
     "metadata": {},
     "output_type": "execute_result"
    }
   ],
   "source": [
    "np.load('my_array.npy')"
   ]
  }
 ],
 "metadata": {
  "kernelspec": {
   "display_name": "Python 3",
   "language": "python",
   "name": "python3"
  },
  "language_info": {
   "codemirror_mode": {
    "name": "ipython",
    "version": 3
   },
   "file_extension": ".py",
   "mimetype": "text/x-python",
   "name": "python",
   "nbconvert_exporter": "python",
   "pygments_lexer": "ipython3",
   "version": "3.10.12"
  },
  "orig_nbformat": 4
 },
 "nbformat": 4,
 "nbformat_minor": 2
}
